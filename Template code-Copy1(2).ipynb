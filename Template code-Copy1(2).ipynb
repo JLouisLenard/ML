{
 "cells": [
  {
   "cell_type": "markdown",
   "metadata": {},
   "source": [
    "# Template code"
   ]
  },
  {
   "cell_type": "markdown",
   "metadata": {},
   "source": [
    "We restructure here the code of Sharam to fit our need. The main difference is the delay in blocking over various variables, e.g. state and payer category. Rather, we are aiming for the following workflow:\n",
    "- load the data from a pickle\n",
    "- Optional: select a set of claims\n",
    "- (pre, re)-process  the various features, in particular the categorical features\n",
    "- If not already done, select a subset ( fixed state, fixed payer category, fixed CPT, amount paid =0,...) \n",
    "- model the subset\n",
    "- possibly iterate to cover the whole dataset\n",
    "\n",
    "The stategy is exploratory rather than systematic in its covering of the dataset. We want to compare various models and approaches on well behaved subsets of data. The code is structured to allow easy replacement of one option by another.\n"
   ]
  },
  {
   "cell_type": "markdown",
   "metadata": {},
   "source": [
    "## Comments\n",
    "- Strategy 1: keep N/A as long as possible to differentiate between n/a entries and 0 entries.\n",
    "- Some  paid amounts are negative. That is likely an adjustement to some previous overepaid claims. To handle such paid amounts, it seems that we would need to keep track of the history of a particular individual. Statistical regularities may not be very usefual here. In absence of a time dependence between claims for a given individual, we are better off ignoring such claims. Our model is unlikely to be able to account for such adjustements given than the only information it uses is within the current claim.\n",
    "- It is always good practice to scale the features and the labels if noly for numerical stability. But in addition if we work with the range [0,1], we may view any variables as a probability and use algorithms that are probability algorithms, e.g., logistic regression.\n",
    "- That scaling of the numerical variables fits nicely with a cut-off for large entries.\n"
   ]
  },
  {
   "cell_type": "markdown",
   "metadata": {},
   "source": [
    "## References\n",
    "- Using categorical data in machine learning with python "
   ]
  },
  {
   "cell_type": "code",
   "execution_count": 269,
   "metadata": {},
   "outputs": [],
   "source": [
    "import pandas as pd\n",
    "import matplotlib.pyplot as plt\n",
    "import numpy as np\n",
    "import time\n",
    "\n",
    "from sklearn.externals import joblib\n",
    "from sklearn import preprocessing\n",
    "from sklearn.preprocessing import OneHotEncoder\n",
    "#from sklearn.pipeline import Pipeline\n",
    "#from sklearn.preprocessing.label import LabelEncoder\n",
    "#from sklearn.base import BaseEstimator, TransformerMixin\n",
    "\n",
    "from sklearn.model_selection import train_test_split \n",
    "#from sklearn.cross_validation import train_test_split\n",
    "from sklearn import linear_model\n",
    "from sklearn.tree.tree import DecisionTreeRegressor\n",
    "from sklearn.ensemble import RandomForestRegressor\n",
    "\n",
    "from sklearn.metrics import mean_squared_error, r2_score\n",
    "\n",
    "%matplotlib inline"
   ]
  },
  {
   "cell_type": "markdown",
   "metadata": {},
   "source": [
    "# Loading the data from file (Enter the current pickle)"
   ]
  },
  {
   "cell_type": "code",
   "execution_count": 16,
   "metadata": {},
   "outputs": [],
   "source": [
    "filename = \"2018-01-25df.joblib.pkl\"\n",
    "df = joblib.load(filename)"
   ]
  },
  {
   "cell_type": "code",
   "execution_count": 17,
   "metadata": {
    "collapsed": true
   },
   "outputs": [
    {
     "name": "stdout",
     "output_type": "stream",
     "text": [
      "<class 'pandas.core.frame.DataFrame'>\n",
      "RangeIndex: 5752317 entries, 0 to 5752316\n",
      "Data columns (total 54 columns):\n",
      "IDentity         int64\n",
      "CreateDTS        datetime64[ns]\n",
      "UpdateDTS        datetime64[ns]\n",
      "CPT              object\n",
      "Mod1             object\n",
      "Mod2             object\n",
      "Mod3             object\n",
      "Mod4             object\n",
      "ICD1             object\n",
      "ICD2             object\n",
      "ICD3             object\n",
      "ICD4             object\n",
      "ChargeAmount     float64\n",
      "ClaimStatus      object\n",
      "PayerCategory    object\n",
      "PayerState       object\n",
      "Specialty        object\n",
      "Sex              object\n",
      "FacilityType     object\n",
      "InsuranceType    object\n",
      "DOSFrom          object\n",
      "DOSTo            object\n",
      "SubmitDate       object\n",
      "PaidAmount       float64\n",
      "R1               object\n",
      "R2               object\n",
      "R3               object\n",
      "R4               object\n",
      "R5               object\n",
      "R6               object\n",
      "R7               int64\n",
      "R8               int64\n",
      "R9               int64\n",
      "R10              int64\n",
      "AdjCode1         object\n",
      "AdjAmt1          float64\n",
      "AdjCode2         object\n",
      "AdjAmt2          float64\n",
      "AdjCode3         object\n",
      "AdjAmt3          float64\n",
      "AdjCode4         object\n",
      "AdjAmt4          float64\n",
      "AdjCode5         object\n",
      "AdjAmt5          float64\n",
      "AdjCode6         object\n",
      "AdjAmt6          object\n",
      "AdjCode7         object\n",
      "AdjAmt7          object\n",
      "AdjCode8         object\n",
      "AdjAmt8          object\n",
      "AdjCode9         object\n",
      "AdjAmt9          object\n",
      "AdjCode10        object\n",
      "AdjAmt10         object\n",
      "dtypes: datetime64[ns](2), float64(7), int64(5), object(40)\n",
      "memory usage: 2.3+ GB\n"
     ]
    }
   ],
   "source": [
    "df.info()"
   ]
  },
  {
   "cell_type": "markdown",
   "metadata": {},
   "source": [
    "# Pick features and labels"
   ]
  },
  {
   "cell_type": "code",
   "execution_count": 54,
   "metadata": {},
   "outputs": [],
   "source": [
    "column_names = ['IDentity','CreateDTS','UpdateDTS','CPT','Mod1', 'Mod2','Mod3', 'Mod4', 'ICD1', 'ICD2', 'ICD3', 'ICD4', \n",
    "                'ChargeAmount', 'ClaimStatus', 'PayerCategory', 'PayerState', 'Specialty', 'Sex', 'FacilityType', 'InsuranceType',\n",
    "                'DOSFrom', 'DOSTo','SubmitDate', 'PaidAmount', 'R1', 'R2', 'R3', 'R4', 'R5','R6','R7','R8','R9', 'R10',\n",
    "                'AdjCode1', 'AdjAmt1', 'AdjCode2', 'AdjAmt2', 'AdjCode3', 'AdjAmt3', 'AdjCode4', 'AdjAmt4', 'AdjCode5', 'AdjAmt5',\n",
    "                'AdjCode6', 'AdjAmt6', 'AdjCode7', 'AdjAmt7', 'AdjCode8', 'AdjAmt8', 'AdjCode9', 'AdjAmt9', 'AdjCode10', 'AdjAmt10']\n",
    "\n",
    "cat_features = ['CPT','Mod1', 'Mod2','Mod3', 'Mod4', 'ICD1', 'ICD2', 'ICD3', 'ICD4', \n",
    "                   'PayerCategory','PayerState','Specialty', 'Sex', 'InsuranceType', 'IDentity']\n",
    "cat_features.append('FacilityType')  ## JLL: Shahram is adding that feature later. \n",
    "cat_features.remove('IDentity') ## JLL: Too many levels, no relation between the levels. Handle later.\n",
    "numeric_features = ['ChargeAmount']                \n",
    " \n",
    "    \n",
    "cat_labels = ['ClaimStatus','R1', 'R2', 'R3', 'R4',\n",
    "                'AdjCode1', 'AdjCode2', 'AdjCode3', 'AdjCode4', 'AdjCode5']\n",
    "numeric_labels   = ['PaidAmount','AdjAmt1', 'AdjAmt2', 'AdjAmt3', 'AdjAmt4', 'AdjAmt5']"
   ]
  },
  {
   "cell_type": "code",
   "execution_count": 5,
   "metadata": {},
   "outputs": [],
   "source": [
    "MIN_DATA_THRESHOLD = 100\n",
    "TEST_FRACTION = 0.1\n",
    "cleanup_columns =['PayerState', 'CPT']\n",
    "NUMERIC = 'Numeric'\n",
    "FACILITY_TYPE = 'FacilityType'\n",
    "PAYER_STATE = 'PayerState'\n",
    "PAYER_CAT = 'PayerCategory'\n",
    "state_value_count = df['PayerState'].value_counts()\n",
    "payer_cat_value_count = df['PayerCategory'].value_counts()"
   ]
  },
  {
   "cell_type": "markdown",
   "metadata": {},
   "source": [
    "# X and y - Choose y here, Optionally choose rows here.\n",
    "Selecting the columns we want to work with and transforming the Panda dataframe to a numpy array.\n",
    "We choose the dependent variables here, and we may want to choose the subset(s) of data we plan to model."
   ]
  },
  {
   "cell_type": "code",
   "execution_count": 119,
   "metadata": {},
   "outputs": [],
   "source": [
    "X_df = df[numeric_features + cat_features]\n",
    "y_df = df['PaidAmount']\n"
   ]
  },
  {
   "cell_type": "code",
   "execution_count": 56,
   "metadata": {},
   "outputs": [
    {
     "data": {
      "text/plain": [
       "(numpy.ndarray, (5752317, 16), str)"
      ]
     },
     "execution_count": 56,
     "metadata": {},
     "output_type": "execute_result"
    }
   ],
   "source": [
    "type(X), X.shape, type(X[0,1])"
   ]
  },
  {
   "cell_type": "markdown",
   "metadata": {},
   "source": [
    "## Exploring the data"
   ]
  },
  {
   "cell_type": "code",
   "execution_count": 61,
   "metadata": {},
   "outputs": [
    {
     "data": {
      "text/plain": [
       "((5752317,), numpy.ndarray, dtype('float64'))"
      ]
     },
     "execution_count": 61,
     "metadata": {},
     "output_type": "execute_result"
    }
   ],
   "source": [
    "y.shape, type(y), y.dtype"
   ]
  },
  {
   "cell_type": "code",
   "execution_count": 63,
   "metadata": {},
   "outputs": [
    {
     "data": {
      "text/plain": [
       "4659"
      ]
     },
     "execution_count": 63,
     "metadata": {},
     "output_type": "execute_result"
    }
   ],
   "source": [
    "len(y[y<0])\n"
   ]
  },
  {
   "cell_type": "code",
   "execution_count": 65,
   "metadata": {},
   "outputs": [
    {
     "data": {
      "text/plain": [
       "(array([  6.00000000e+00,   1.00000000e+00,   0.00000000e+00,\n",
       "          1.00000000e+00,   0.00000000e+00,   4.00000000e+00,\n",
       "          3.00000000e+00,   1.00000000e+00,   3.00000000e+01,\n",
       "          4.61300000e+03]),\n",
       " array([ -9.00000000e+03,  -8.10001300e+03,  -7.20002600e+03,\n",
       "         -6.30003900e+03,  -5.40005200e+03,  -4.50006500e+03,\n",
       "         -3.60007800e+03,  -2.70009100e+03,  -1.80010400e+03,\n",
       "         -9.00117000e+02,  -1.30000000e-01]),\n",
       " <a list of 10 Patch objects>)"
      ]
     },
     "execution_count": 65,
     "metadata": {},
     "output_type": "execute_result"
    },
    {
     "data": {
      "image/png": "[encoded data removed]",
      "text/plain": [
       "<matplotlib.figure.Figure at 0x7fe5ab091fd0>"
      ]
     },
     "metadata": {},
     "output_type": "display_data"
    }
   ],
   "source": [
    "plt.hist(y[y<0])"
   ]
  },
  {
   "cell_type": "code",
   "execution_count": 74,
   "metadata": {},
   "outputs": [
    {
     "data": {
      "text/plain": [
       "(array([  5.42406500e+06,   2.44840000e+05,   3.90740000e+04,\n",
       "          1.55750000e+04,   5.23100000e+03,   4.20500000e+03,\n",
       "          2.37800000e+03,   1.87700000e+03,   1.37200000e+03,\n",
       "          9.88000000e+02,   8.31000000e+02,   6.44000000e+02,\n",
       "          9.16000000e+02,   3.04000000e+02,   6.48000000e+02,\n",
       "          1.14100000e+03,   3.96000000e+02,   2.10000000e+02,\n",
       "          2.46000000e+02,   2.27000000e+02,   2.12000000e+02,\n",
       "          8.40000000e+01,   9.40000000e+01,   1.33000000e+02,\n",
       "          8.90000000e+01,   5.80000000e+01,   8.10000000e+01,\n",
       "          9.50000000e+01,   9.50000000e+01,   7.90000000e+01,\n",
       "          1.50000000e+02,   2.60000000e+01,   5.70000000e+01,\n",
       "          5.80000000e+01,   4.30000000e+01,   4.50000000e+01,\n",
       "          2.20000000e+01,   1.30000000e+01,   5.10000000e+01,\n",
       "          3.00000000e+01,   2.90000000e+01,   3.00000000e+01,\n",
       "          4.30000000e+01,   2.40000000e+01,   2.00000000e+01,\n",
       "          1.50000000e+01,   8.00000000e+00,   7.00000000e+00,\n",
       "          1.40000000e+01,   2.40000000e+01]),\n",
       " array([    0.   ,    99.797,   199.594,   299.391,   399.188,   498.985,\n",
       "          598.782,   698.579,   798.376,   898.173,   997.97 ,  1097.767,\n",
       "         1197.564,  1297.361,  1397.158,  1496.955,  1596.752,  1696.549,\n",
       "         1796.346,  1896.143,  1995.94 ,  2095.737,  2195.534,  2295.331,\n",
       "         2395.128,  2494.925,  2594.722,  2694.519,  2794.316,  2894.113,\n",
       "         2993.91 ,  3093.707,  3193.504,  3293.301,  3393.098,  3492.895,\n",
       "         3592.692,  3692.489,  3792.286,  3892.083,  3991.88 ,  4091.677,\n",
       "         4191.474,  4291.271,  4391.068,  4490.865,  4590.662,  4690.459,\n",
       "         4790.256,  4890.053,  4989.85 ]),\n",
       " <a list of 50 Patch objects>)"
      ]
     },
     "execution_count": 74,
     "metadata": {},
     "output_type": "execute_result"
    },
    {
     "data": {
      "image/png": "[encoded data removed]",
      "text/plain": [
       "<matplotlib.figure.Figure at 0x7fe5be9af7f0>"
      ]
     },
     "metadata": {},
     "output_type": "display_data"
    }
   ],
   "source": [
    "msk = (0 <= y) & (y < 5000)\n",
    "plt.hist(y[msk],bins=50)"
   ]
  },
  {
   "cell_type": "code",
   "execution_count": 78,
   "metadata": {},
   "outputs": [
    {
     "data": {
      "text/plain": [
       "3956165"
      ]
     },
     "execution_count": 78,
     "metadata": {},
     "output_type": "execute_result"
    }
   ],
   "source": [
    "msk = (0 <= y) & (y < 0.1)\n",
    "len(y[msk])"
   ]
  },
  {
   "cell_type": "code",
   "execution_count": 79,
   "metadata": {},
   "outputs": [
    {
     "data": {
      "text/plain": [
       "99213    494528\n",
       "99214    438680\n",
       "97110    148003\n",
       "99232    140180\n",
       "90837    114960\n",
       "97140    113588\n",
       "36415     93399\n",
       "98941     78362\n",
       "99212     71689\n",
       "99203     66864\n",
       "99233     64975\n",
       "99215     64930\n",
       "99204     64499\n",
       "97112     60183\n",
       "90834     56890\n",
       "99309     49092\n",
       "81002     48953\n",
       "97530     47274\n",
       "96372     42271\n",
       "99308     42099\n",
       "90833     41869\n",
       "90460     40305\n",
       "11721     39111\n",
       "99223     34095\n",
       "G8427     32533\n",
       "98940     31018\n",
       "87880     30755\n",
       "92507     28560\n",
       "T2016     26486\n",
       "99396     25857\n",
       "          ...  \n",
       "5015F         1\n",
       "50820         1\n",
       "G9008         1\n",
       "97260         1\n",
       "81321         1\n",
       "63102         1\n",
       "26185         1\n",
       "72198         1\n",
       "99707         1\n",
       "82085         1\n",
       "00100         1\n",
       "85576         1\n",
       "V2410         1\n",
       "30460         1\n",
       "49582         1\n",
       "D5860         1\n",
       "A4630         1\n",
       "99456         1\n",
       "21199         1\n",
       "22511         1\n",
       "1044M         1\n",
       "51800         1\n",
       "58958         1\n",
       "J2597         1\n",
       "C1713         1\n",
       "A5503         1\n",
       "G6032         1\n",
       "J7604         1\n",
       "G8579         1\n",
       "77085         1\n",
       "Name: CPT, Length: 6996, dtype: int64"
      ]
     },
     "execution_count": 79,
     "metadata": {},
     "output_type": "execute_result"
    }
   ],
   "source": [
    "df['CPT'].value_counts()"
   ]
  },
  {
   "cell_type": "code",
   "execution_count": 84,
   "metadata": {},
   "outputs": [],
   "source": [
    "x0=df[df['CPT']== '99214']['ChargeAmount']\n",
    "y0=df[df['CPT']== '99214']['PaidAmount']"
   ]
  },
  {
   "cell_type": "code",
   "execution_count": 95,
   "metadata": {},
   "outputs": [
    {
     "data": {
      "text/plain": [
       "[<matplotlib.lines.Line2D at 0x7fe5c5773fd0>]"
      ]
     },
     "execution_count": 95,
     "metadata": {},
     "output_type": "execute_result"
    },
    {
     "data": {
      "image/png": "[encoded data removed]",
      "text/plain": [
       "<matplotlib.figure.Figure at 0x7fe5c57737f0>"
      ]
     },
     "metadata": {},
     "output_type": "display_data"
    }
   ],
   "source": [
    "plt.scatter(x0,y0)\n",
    "plt.plot(y0,y0)"
   ]
  },
  {
   "cell_type": "code",
   "execution_count": null,
   "metadata": {},
   "outputs": [],
   "source": [
    "# Needs the histogram of PaidAmount at fixed CPT"
   ]
  },
  {
   "cell_type": "markdown",
   "metadata": {},
   "source": [
    "## Train and test split"
   ]
  },
  {
   "cell_type": "code",
   "execution_count": 132,
   "metadata": {},
   "outputs": [],
   "source": [
    "# Option 1\n",
    "# Splitting dataframes\n",
    "test_size = 0.2\n",
    "\n",
    "X_train, X_test, y_train, y_test = train_test_split(X_df, y_df, \n",
    "                                                    test_size=test_size, \n",
    "                                                    random_state=0)"
   ]
  },
  {
   "cell_type": "code",
   "execution_count": null,
   "metadata": {},
   "outputs": [],
   "source": [
    "# Option 2\n",
    "# Splitting arrays\n",
    "indices = np.arange(n_samples)\n",
    "x1, x2, y1, y2, idx1, idx2 = train_test_split(\n",
    "    data, labels, indices, test_size=0.2)"
   ]
  },
  {
   "cell_type": "code",
   "execution_count": 176,
   "metadata": {},
   "outputs": [],
   "source": [
    "# Option 3\n",
    "# manual Splitting \n",
    "test_size = 0.2\n",
    "threshold = 1 - test_size\n",
    "mask_split = np.random.rand(len(df)) < threshold\n",
    "\n",
    "# train = df[mask_split]\n",
    "\n",
    "# test = df[~mask_split]"
   ]
  },
  {
   "cell_type": "markdown",
   "metadata": {},
   "source": [
    "# Primitive baseline models\n",
    "PaidAmount: Guess $0.\n",
    "PaidAmount: Block over a few variables ( State,.., and/or CPT). Use average paid amounts for suitable claims, i.e. not outright outliers. May require a minimum of claims per block and cut off 5% or 10% at the top, depending on the distribution of the paidamount.\n",
    "\n",
    "ClaimStatue: 2% rejected. Guess all accepted. Maybe check in term of CPT. "
   ]
  },
  {
   "cell_type": "code",
   "execution_count": 122,
   "metadata": {},
   "outputs": [],
   "source": [
    "state = 'GA'\n",
    "payercategory = 'Commercial'\n",
    "mask_train = (X_train['PayerState']==state) & (X_train['PayerCategory']== payercategory)\n",
    "mask_test = (X_test['PayerState']==state) & (X_test['PayerCategory']== payercategory)\n",
    "\n",
    "y_train_m = y_train[mask_train]\n",
    "y_test_m = y_test[mask_test]"
   ]
  },
  {
   "cell_type": "code",
   "execution_count": 123,
   "metadata": {},
   "outputs": [
    {
     "data": {
      "text/plain": [
       "(131928,)"
      ]
     },
     "execution_count": 123,
     "metadata": {},
     "output_type": "execute_result"
    }
   ],
   "source": [
    "y_train_m.shape"
   ]
  },
  {
   "cell_type": "code",
   "execution_count": 128,
   "metadata": {},
   "outputs": [
    {
     "name": "stdout",
     "output_type": "stream",
     "text": [
      "y_mean: 25.92\n",
      "Root mean squared error: 240.69\n",
      "Variance score: -0.00\n"
     ]
    }
   ],
   "source": [
    "y_mean = y_train_m.mean()\n",
    "y_pred_m = np.ones(len(y_test_m))*y_mean\n",
    "loss = mean_squared_error(y_test_m, y_pred_m)\n",
    "r2 = r2_score(y_test_m, y_pred_m)\n",
    "\n",
    "# y_mean\n",
    "print('y_mean: %.2f' % y_mean)\n",
    "\n",
    "# The mean squared error\n",
    "print(\"Root mean squared error: %.2f\" % loss**(1/2))\n",
    "# Explained variance score: 1 is perfect prediction\n",
    "print('Variance score: %.2f' % r2)"
   ]
  },
  {
   "cell_type": "code",
   "execution_count": 129,
   "metadata": {},
   "outputs": [
    {
     "data": {
      "text/plain": [
       "(array([  2.92250000e+04,   3.87900000e+03,   7.90000000e+01,\n",
       "          3.10000000e+01,   9.00000000e+00,   8.00000000e+00,\n",
       "          8.00000000e+00,   2.00000000e+00,   5.00000000e+00,\n",
       "          5.00000000e+00,   1.00000000e+00,   4.00000000e+00,\n",
       "          1.00000000e+00,   0.00000000e+00,   2.00000000e+00,\n",
       "          0.00000000e+00,   1.00000000e+00,   4.00000000e+00,\n",
       "          1.00000000e+00,   0.00000000e+00,   1.00000000e+00,\n",
       "          0.00000000e+00,   0.00000000e+00,   0.00000000e+00,\n",
       "          0.00000000e+00,   4.00000000e+00,   0.00000000e+00,\n",
       "          1.00000000e+00,   1.00000000e+00,   0.00000000e+00,\n",
       "          0.00000000e+00,   0.00000000e+00,   0.00000000e+00,\n",
       "          0.00000000e+00,   0.00000000e+00,   0.00000000e+00,\n",
       "          0.00000000e+00,   1.00000000e+00,   0.00000000e+00,\n",
       "          0.00000000e+00,   0.00000000e+00,   0.00000000e+00,\n",
       "          0.00000000e+00,   0.00000000e+00,   0.00000000e+00,\n",
       "          0.00000000e+00,   0.00000000e+00,   0.00000000e+00,\n",
       "          0.00000000e+00,   1.00000000e+00]),\n",
       " array([  -339.12  ,     51.6624,    442.4448,    833.2272,   1224.0096,\n",
       "          1614.792 ,   2005.5744,   2396.3568,   2787.1392,   3177.9216,\n",
       "          3568.704 ,   3959.4864,   4350.2688,   4741.0512,   5131.8336,\n",
       "          5522.616 ,   5913.3984,   6304.1808,   6694.9632,   7085.7456,\n",
       "          7476.528 ,   7867.3104,   8258.0928,   8648.8752,   9039.6576,\n",
       "          9430.44  ,   9821.2224,  10212.0048,  10602.7872,  10993.5696,\n",
       "         11384.352 ,  11775.1344,  12165.9168,  12556.6992,  12947.4816,\n",
       "         13338.264 ,  13729.0464,  14119.8288,  14510.6112,  14901.3936,\n",
       "         15292.176 ,  15682.9584,  16073.7408,  16464.5232,  16855.3056,\n",
       "         17246.088 ,  17636.8704,  18027.6528,  18418.4352,  18809.2176,\n",
       "         19200.    ]),\n",
       " <a list of 50 Patch objects>)"
      ]
     },
     "execution_count": 129,
     "metadata": {},
     "output_type": "execute_result"
    },
    {
     "data": {
      "image/png": "[encoded data removed]",
      "text/plain": [
       "<matplotlib.figure.Figure at 0x7fe5c1d5b668>"
      ]
     },
     "metadata": {},
     "output_type": "display_data"
    }
   ],
   "source": [
    "plt.hist(y_test,bins=50)"
   ]
  },
  {
   "cell_type": "code",
   "execution_count": 136,
   "metadata": {},
   "outputs": [
    {
     "data": {
      "text/plain": [
       "((4601853,), (1150464,))"
      ]
     },
     "execution_count": 136,
     "metadata": {},
     "output_type": "execute_result"
    }
   ],
   "source": [
    "mask_test.shape,y_test.shape"
   ]
  },
  {
   "cell_type": "code",
   "execution_count": 156,
   "metadata": {},
   "outputs": [],
   "source": [
    "cpt = '99214'\n",
    "\n",
    "mask_train = X_train['CPT']==cpt\n",
    "mask_test =  X_test['CPT']==cpt\n",
    "\n",
    "y_train_m = y_train[mask_train]\n",
    "y_test_m = y_test[mask_test]"
   ]
  },
  {
   "cell_type": "code",
   "execution_count": 157,
   "metadata": {},
   "outputs": [
    {
     "data": {
      "text/plain": [
       "False    4250707\n",
       "True      351146\n",
       "Name: CPT, dtype: int64"
      ]
     },
     "execution_count": 157,
     "metadata": {},
     "output_type": "execute_result"
    }
   ],
   "source": [
    "mask_train.value_counts()"
   ]
  },
  {
   "cell_type": "code",
   "execution_count": 158,
   "metadata": {},
   "outputs": [
    {
     "name": "stdout",
     "output_type": "stream",
     "text": [
      "y_mean: 29.65\n",
      "Root mean squared error: 42.79\n",
      "Variance score: -0.00\n"
     ]
    }
   ],
   "source": [
    "y_mean = y_train_m.mean()\n",
    "y_pred_m = np.ones(len(y_test_m))*y_mean\n",
    "loss = mean_squared_error(y_test_m, y_pred_m)\n",
    "r2 = r2_score(y_test_m, y_pred_m)\n",
    "\n",
    "# y_mean\n",
    "print('y_mean: %.2f' % y_mean)\n",
    "\n",
    "# The mean squared error\n",
    "print(\"Root mean squared error: %.2f\" % loss**(1/2))\n",
    "# Explained variance score: 1 is perfect prediction\n",
    "print('Variance score: %.2f' % r2)"
   ]
  },
  {
   "cell_type": "code",
   "execution_count": 163,
   "metadata": {},
   "outputs": [
    {
     "data": {
      "text/plain": [
       "(array([  1.00000000e+00,   0.00000000e+00,   3.00000000e+00,\n",
       "          1.00000000e+00,   4.10000000e+01,   4.00000000e+00,\n",
       "          2.00000000e+00,   1.20000000e+01,   6.00000000e+00,\n",
       "          4.00000000e+00,   0.00000000e+00,   5.55380000e+04,\n",
       "          6.97000000e+02,   7.84000000e+02,   1.13500000e+03,\n",
       "          2.05500000e+03,   4.44700000e+03,   1.10820000e+04,\n",
       "          6.55900000e+03,   2.56200000e+03,   1.14300000e+03,\n",
       "          4.07000000e+02,   2.08000000e+02,   2.30000000e+02,\n",
       "          8.20000000e+01,   1.23000000e+02,   5.80000000e+01,\n",
       "          1.36000000e+02,   4.90000000e+01,   6.40000000e+01,\n",
       "          2.30000000e+01,   4.00000000e+01,   2.80000000e+01,\n",
       "          2.00000000e+00,   4.00000000e+00,   0.00000000e+00,\n",
       "          0.00000000e+00,   0.00000000e+00,   2.00000000e+00,\n",
       "          0.00000000e+00,   1.00000000e+00,   0.00000000e+00,\n",
       "          0.00000000e+00,   0.00000000e+00,   0.00000000e+00,\n",
       "          0.00000000e+00,   0.00000000e+00,   0.00000000e+00,\n",
       "          0.00000000e+00,   1.00000000e+00]),\n",
       " array([-144.39  , -131.6772, -118.9644, -106.2516,  -93.5388,  -80.826 ,\n",
       "         -68.1132,  -55.4004,  -42.6876,  -29.9748,  -17.262 ,   -4.5492,\n",
       "           8.1636,   20.8764,   33.5892,   46.302 ,   59.0148,   71.7276,\n",
       "          84.4404,   97.1532,  109.866 ,  122.5788,  135.2916,  148.0044,\n",
       "         160.7172,  173.43  ,  186.1428,  198.8556,  211.5684,  224.2812,\n",
       "         236.994 ,  249.7068,  262.4196,  275.1324,  287.8452,  300.558 ,\n",
       "         313.2708,  325.9836,  338.6964,  351.4092,  364.122 ,  376.8348,\n",
       "         389.5476,  402.2604,  414.9732,  427.686 ,  440.3988,  453.1116,\n",
       "         465.8244,  478.5372,  491.25  ]),\n",
       " <a list of 50 Patch objects>)"
      ]
     },
     "execution_count": 163,
     "metadata": {},
     "output_type": "execute_result"
    },
    {
     "data": {
      "image/png": "[encoded data removed]",
      "text/plain": [
       "<matplotlib.figure.Figure at 0x7fe5c2f376d8>"
      ]
     },
     "metadata": {},
     "output_type": "display_data"
    }
   ],
   "source": [
    "plt.hist(y_test_m,bins=50)"
   ]
  },
  {
   "cell_type": "code",
   "execution_count": 165,
   "metadata": {},
   "outputs": [
    {
     "data": {
      "text/plain": [
       "(0, 300)"
      ]
     },
     "execution_count": 165,
     "metadata": {},
     "output_type": "execute_result"
    },
    {
     "data": {
      "image/png": "[encoded data removed]",
      "text/plain": [
       "<matplotlib.figure.Figure at 0x7fe5c47351d0>"
      ]
     },
     "metadata": {},
     "output_type": "display_data"
    }
   ],
   "source": [
    "mask = (y_test_m >= 0)& (y_test_m <= 300)\n",
    "plt.hist(y_test_m[mask],bins=50)\n",
    "plt.xlim((0,300))"
   ]
  },
  {
   "cell_type": "markdown",
   "metadata": {},
   "source": [
    "# Preprocessing the categorical features"
   ]
  },
  {
   "cell_type": "markdown",
   "metadata": {},
   "source": [
    "### Label Encoding"
   ]
  },
  {
   "cell_type": "code",
   "execution_count": 184,
   "metadata": {},
   "outputs": [],
   "source": [
    "# The columns to encode\n",
    "columns_enc = cat_features\n",
    "\n",
    "encoders = {} ##  a dictionary {col:enc,...}\n",
    "\n",
    "for col in columns_enc:\n",
    "    print('Encoding column ', col)\n",
    "    encoder = preprocessing.LabelEncoder()\n",
    "    encoder.fit(df[col].astype(str))\n",
    "    encoders[col]= encoder  ## storing the encoders\n",
    "\n",
    "   "
   ]
  },
  {
   "cell_type": "code",
   "execution_count": 186,
   "metadata": {},
   "outputs": [
    {
     "data": {
      "text/plain": [
       "{'CPT': LabelEncoder(),\n",
       " 'FacilityType': LabelEncoder(),\n",
       " 'ICD1': LabelEncoder(),\n",
       " 'ICD2': LabelEncoder(),\n",
       " 'ICD3': LabelEncoder(),\n",
       " 'ICD4': LabelEncoder(),\n",
       " 'InsuranceType': LabelEncoder(),\n",
       " 'Mod1': LabelEncoder(),\n",
       " 'Mod2': LabelEncoder(),\n",
       " 'Mod3': LabelEncoder(),\n",
       " 'Mod4': LabelEncoder(),\n",
       " 'PayerCategory': LabelEncoder(),\n",
       " 'PayerState': LabelEncoder(),\n",
       " 'Sex': LabelEncoder(),\n",
       " 'Specialty': LabelEncoder()}"
      ]
     },
     "execution_count": 186,
     "metadata": {},
     "output_type": "execute_result"
    }
   ],
   "source": [
    "encoders"
   ]
  },
  {
   "cell_type": "code",
   "execution_count": null,
   "metadata": {},
   "outputs": [],
   "source": []
  },
  {
   "cell_type": "code",
   "execution_count": 170,
   "metadata": {},
   "outputs": [
    {
     "name": "stdout",
     "output_type": "stream",
     "text": [
      "Encoding column  0\n",
      "Encoding column  1\n",
      "Encoding column  2\n",
      "Encoding column  3\n",
      "Encoding column  4\n",
      "Encoding column  5\n",
      "Encoding column  6\n",
      "Encoding column  7\n",
      "Encoding column  8\n",
      "Encoding column  9\n",
      "Encoding column  10\n",
      "Encoding column  11\n",
      "Encoding column  12\n",
      "Encoding column  13\n",
      "Encoding column  14\n",
      "Encoding column  15\n"
     ]
    }
   ],
   "source": [
    "# Another option\n",
    "\n",
    "X_train_numb = X_train.values\n",
    "X_test_numb = X_test.values\n",
    "#y = y_df.values\n",
    "\n",
    "X_ordinal = X  ## an alias. Do we need an explicit copy here?\n",
    "\n",
    "encoders = []\n",
    "\n",
    "for i in range(X_train_numb.shape[1]):\n",
    "    print('Encoding column ', i)\n",
    "    if i < len(numeric_features):\n",
    "        continue \n",
    "    X_train_numb[:, i] =  X_train_numb[:, i].astype(str)\n",
    "    X_test_numb[:, i] =  X_test_numb[:, i].astype(str)## we have int 0 and str entries.\n",
    "    encoder = preprocessing.LabelEncoder()\n",
    "    encoder.fit(np.concatenate([X_train_numb[:,i],X_test_numb[:,i]]))\n",
    "    encoders.append(encoder)  ## storing the encoders\n",
    "    X_train_numb[:, i] = encoder.transform(X_train_numb[:, i])\n",
    "    X_test_numb[:, i] = encoder.transform(X_test_numb[:, i])\n",
    "    # we get a problem: ValueError: y contains new labels:\n",
    "    # Could try to add teh attribute handle_unknown='ignore'. Works for one hot encoding.\n",
    "    # Or use the fullset to generate the encoding as a temporary measure.\n",
    "    # Ideally, we should work from a full catalog of levels.\n",
    "   "
   ]
  },
  {
   "cell_type": "markdown",
   "metadata": {},
   "source": [
    "## Choosing and preparing the subsets of data"
   ]
  },
  {
   "cell_type": "code",
   "execution_count": 227,
   "metadata": {},
   "outputs": [],
   "source": [
    "cpt = '99214'\n",
    "\n",
    "mask_sub = df['CPT']== cpt\n",
    "\n",
    "\n",
    "# Pick the rows of interest.\n",
    "# X_df picks the columsn of interest from df\n",
    "# and the mask(s) picks the relevant rows.\n",
    "X_train = X_df[mask_split & mask_sub].copy()\n",
    "X_test = X_df[~mask_split & mask_sub].copy()\n",
    "y_train = y_df[mask_split & mask_sub].copy()\n",
    "y_test = y_df[~mask_split & mask_sub].copy()"
   ]
  },
  {
   "cell_type": "code",
   "execution_count": 229,
   "metadata": {},
   "outputs": [
    {
     "data": {
      "text/html": [
       "<div>\n",
       "<style scoped>\n",
       "    .dataframe tbody tr th:only-of-type {\n",
       "        vertical-align: middle;\n",
       "    }\n",
       "\n",
       "    .dataframe tbody tr th {\n",
       "        vertical-align: top;\n",
       "    }\n",
       "\n",
       "    .dataframe thead th {\n",
       "        text-align: right;\n",
       "    }\n",
       "</style>\n",
       "<table border=\"1\" class=\"dataframe\">\n",
       "  <thead>\n",
       "    <tr style=\"text-align: right;\">\n",
       "      <th></th>\n",
       "      <th>ChargeAmount</th>\n",
       "      <th>CPT</th>\n",
       "      <th>Mod1</th>\n",
       "      <th>Mod2</th>\n",
       "      <th>Mod3</th>\n",
       "      <th>Mod4</th>\n",
       "      <th>ICD1</th>\n",
       "      <th>ICD2</th>\n",
       "      <th>ICD3</th>\n",
       "      <th>ICD4</th>\n",
       "      <th>PayerCategory</th>\n",
       "      <th>PayerState</th>\n",
       "      <th>Specialty</th>\n",
       "      <th>Sex</th>\n",
       "      <th>InsuranceType</th>\n",
       "      <th>FacilityType</th>\n",
       "    </tr>\n",
       "  </thead>\n",
       "  <tbody>\n",
       "    <tr>\n",
       "      <th>2</th>\n",
       "      <td>225.0</td>\n",
       "      <td>99214</td>\n",
       "      <td>0</td>\n",
       "      <td>0</td>\n",
       "      <td>0</td>\n",
       "      <td>0</td>\n",
       "      <td>I10</td>\n",
       "      <td>G40909</td>\n",
       "      <td>K210</td>\n",
       "      <td>G5600</td>\n",
       "      <td>BCBS</td>\n",
       "      <td>MN</td>\n",
       "      <td>0</td>\n",
       "      <td>Female</td>\n",
       "      <td>PrimaryProfessional</td>\n",
       "      <td>Office</td>\n",
       "    </tr>\n",
       "    <tr>\n",
       "      <th>3</th>\n",
       "      <td>225.0</td>\n",
       "      <td>99214</td>\n",
       "      <td>0</td>\n",
       "      <td>0</td>\n",
       "      <td>0</td>\n",
       "      <td>0</td>\n",
       "      <td>I10</td>\n",
       "      <td>K210</td>\n",
       "      <td>0</td>\n",
       "      <td>0</td>\n",
       "      <td>Medicare RR</td>\n",
       "      <td>GA</td>\n",
       "      <td>0</td>\n",
       "      <td>Female</td>\n",
       "      <td>PrimaryProfessional</td>\n",
       "      <td>Office</td>\n",
       "    </tr>\n",
       "    <tr>\n",
       "      <th>4</th>\n",
       "      <td>225.0</td>\n",
       "      <td>99214</td>\n",
       "      <td>0</td>\n",
       "      <td>0</td>\n",
       "      <td>0</td>\n",
       "      <td>0</td>\n",
       "      <td>I2510</td>\n",
       "      <td>I10</td>\n",
       "      <td>E782</td>\n",
       "      <td>E119</td>\n",
       "      <td>Medicare RR</td>\n",
       "      <td>GA</td>\n",
       "      <td>0</td>\n",
       "      <td>Male</td>\n",
       "      <td>PrimaryProfessional</td>\n",
       "      <td>Office</td>\n",
       "    </tr>\n",
       "    <tr>\n",
       "      <th>8</th>\n",
       "      <td>225.0</td>\n",
       "      <td>99214</td>\n",
       "      <td>25</td>\n",
       "      <td>0</td>\n",
       "      <td>0</td>\n",
       "      <td>0</td>\n",
       "      <td>I10</td>\n",
       "      <td>R002</td>\n",
       "      <td>0</td>\n",
       "      <td>0</td>\n",
       "      <td>Commercial</td>\n",
       "      <td>KY</td>\n",
       "      <td>207R00000X</td>\n",
       "      <td>Male</td>\n",
       "      <td>PrimaryProfessional</td>\n",
       "      <td>Office</td>\n",
       "    </tr>\n",
       "    <tr>\n",
       "      <th>10</th>\n",
       "      <td>225.0</td>\n",
       "      <td>99214</td>\n",
       "      <td>0</td>\n",
       "      <td>0</td>\n",
       "      <td>0</td>\n",
       "      <td>0</td>\n",
       "      <td>R5382</td>\n",
       "      <td>D500</td>\n",
       "      <td>0</td>\n",
       "      <td>0</td>\n",
       "      <td>Commercial</td>\n",
       "      <td>KY</td>\n",
       "      <td>207R00000X</td>\n",
       "      <td>Female</td>\n",
       "      <td>PrimaryProfessional</td>\n",
       "      <td>Office</td>\n",
       "    </tr>\n",
       "  </tbody>\n",
       "</table>\n",
       "</div>"
      ],
      "text/plain": [
       "    ChargeAmount    CPT Mod1 Mod2 Mod3 Mod4   ICD1    ICD2  ICD3   ICD4  \\\n",
       "2          225.0  99214    0    0    0    0    I10  G40909  K210  G5600   \n",
       "3          225.0  99214    0    0    0    0    I10    K210     0      0   \n",
       "4          225.0  99214    0    0    0    0  I2510     I10  E782   E119   \n",
       "8          225.0  99214   25    0    0    0    I10    R002     0      0   \n",
       "10         225.0  99214    0    0    0    0  R5382    D500     0      0   \n",
       "\n",
       "   PayerCategory PayerState   Specialty     Sex        InsuranceType  \\\n",
       "2           BCBS         MN           0  Female  PrimaryProfessional   \n",
       "3    Medicare RR         GA           0  Female  PrimaryProfessional   \n",
       "4    Medicare RR         GA           0    Male  PrimaryProfessional   \n",
       "8     Commercial         KY  207R00000X    Male  PrimaryProfessional   \n",
       "10    Commercial         KY  207R00000X  Female  PrimaryProfessional   \n",
       "\n",
       "   FacilityType  \n",
       "2        Office  \n",
       "3        Office  \n",
       "4        Office  \n",
       "8        Office  \n",
       "10       Office  "
      ]
     },
     "execution_count": 229,
     "metadata": {},
     "output_type": "execute_result"
    }
   ],
   "source": [
    "X_train.head()"
   ]
  },
  {
   "cell_type": "code",
   "execution_count": 230,
   "metadata": {},
   "outputs": [
    {
     "name": "stdout",
     "output_type": "stream",
     "text": [
      "processing column: CPT\n"
     ]
    },
    {
     "name": "stderr",
     "output_type": "stream",
     "text": [
      "/etc/anaconda/envs/python35/lib/python3.5/site-packages/pandas/core/indexing.py:537: SettingWithCopyWarning: \n",
      "A value is trying to be set on a copy of a slice from a DataFrame.\n",
      "Try using .loc[row_indexer,col_indexer] = value instead\n",
      "\n",
      "See the caveats in the documentation: http://pandas.pydata.org/pandas-docs/stable/indexing.html#indexing-view-versus-copy\n",
      "  self.obj[item] = s\n"
     ]
    },
    {
     "name": "stdout",
     "output_type": "stream",
     "text": [
      "done\n"
     ]
    },
    {
     "name": "stderr",
     "output_type": "stream",
     "text": [
      "/etc/anaconda/envs/python35/lib/python3.5/site-packages/ipykernel_launcher.py:7: SettingWithCopyWarning: \n",
      "A value is trying to be set on a copy of a slice from a DataFrame.\n",
      "Try using .loc[row_indexer,col_indexer] = value instead\n",
      "\n",
      "See the caveats in the documentation: http://pandas.pydata.org/pandas-docs/stable/indexing.html#indexing-view-versus-copy\n",
      "  import sys\n"
     ]
    },
    {
     "name": "stdout",
     "output_type": "stream",
     "text": [
      "processing column: Mod1\n",
      "done\n",
      "processing column: Mod2\n",
      "done\n",
      "processing column: Mod3\n",
      "done\n",
      "processing column: Mod4\n",
      "done\n",
      "processing column: ICD1\n",
      "done\n",
      "processing column: ICD2\n",
      "done\n",
      "processing column: ICD3\n",
      "done\n",
      "processing column: ICD4\n",
      "done\n",
      "processing column: PayerCategory\n",
      "done\n",
      "processing column: PayerState\n",
      "done\n",
      "processing column: Specialty\n",
      "done\n",
      "processing column: Sex\n",
      "done\n",
      "processing column: InsuranceType\n",
      "done\n",
      "processing column: FacilityType\n",
      "done\n"
     ]
    }
   ],
   "source": [
    "# Encode the categorical features\n",
    "for col in columns_enc:\n",
    "    print (\"processing column:\",col)\n",
    "    encoder = encoders[col]\n",
    "    X_train.loc[:,col] = encoder.transform(X_train.loc[:,col].astype(str).values)\n",
    "    print (\"done\")\n",
    "    X_test[col] = encoder.transform(X_test[col].astype(str).values)\n",
    "    "
   ]
  },
  {
   "cell_type": "code",
   "execution_count": null,
   "metadata": {},
   "outputs": [],
   "source": []
  },
  {
   "cell_type": "markdown",
   "metadata": {},
   "source": [
    "## Linear regression"
   ]
  },
  {
   "cell_type": "code",
   "execution_count": 173,
   "metadata": {},
   "outputs": [
    {
     "ename": "IndexError",
     "evalue": "only integers, slices (`:`), ellipsis (`...`), numpy.newaxis (`None`) and integer or boolean arrays are valid indices",
     "output_type": "error",
     "traceback": [
      "\u001b[0;31m---------------------------------------------------------------------------\u001b[0m",
      "\u001b[0;31mIndexError\u001b[0m                                Traceback (most recent call last)",
      "\u001b[0;32m<ipython-input-173-1683faf1bf6c>\u001b[0m in \u001b[0;36m<module>\u001b[0;34m()\u001b[0m\n\u001b[1;32m      1\u001b[0m \u001b[0mcpt\u001b[0m \u001b[0;34m=\u001b[0m \u001b[0;34m'99214'\u001b[0m\u001b[0;34m\u001b[0m\u001b[0m\n\u001b[1;32m      2\u001b[0m \u001b[0;34m\u001b[0m\u001b[0m\n\u001b[0;32m----> 3\u001b[0;31m \u001b[0mmask_train\u001b[0m \u001b[0;34m=\u001b[0m \u001b[0mX_train_numb\u001b[0m\u001b[0;34m[\u001b[0m\u001b[0;34m'CPT'\u001b[0m\u001b[0;34m]\u001b[0m\u001b[0;34m==\u001b[0m\u001b[0mcpt\u001b[0m\u001b[0;34m\u001b[0m\u001b[0m\n\u001b[0m\u001b[1;32m      4\u001b[0m \u001b[0mmask_test\u001b[0m \u001b[0;34m=\u001b[0m  \u001b[0mX_test_numb\u001b[0m\u001b[0;34m[\u001b[0m\u001b[0;34m'CPT'\u001b[0m\u001b[0;34m]\u001b[0m\u001b[0;34m==\u001b[0m\u001b[0mcpt\u001b[0m\u001b[0;34m\u001b[0m\u001b[0m\n\u001b[1;32m      5\u001b[0m \u001b[0;34m\u001b[0m\u001b[0m\n",
      "\u001b[0;31mIndexError\u001b[0m: only integers, slices (`:`), ellipsis (`...`), numpy.newaxis (`None`) and integer or boolean arrays are valid indices"
     ]
    }
   ],
   "source": [
    "cpt = '99214'\n",
    "\n",
    "mask_train = X_train_numb['CPT']==cpt\n",
    "mask_test =  X_test_numb['CPT']==cpt\n",
    "\n",
    "X_train_numb_m = X_train_numb[mask_train]\n",
    "X_test_numb_m = X_test_numb[mask_train]\n",
    "y_train_m = y_train[mask_train]\n",
    "y_test_m = y_test[mask_test]"
   ]
  },
  {
   "cell_type": "code",
   "execution_count": 237,
   "metadata": {},
   "outputs": [
    {
     "data": {
      "text/plain": [
       "LinearRegression(copy_X=True, fit_intercept=True, n_jobs=1, normalize=False)"
      ]
     },
     "execution_count": 237,
     "metadata": {},
     "output_type": "execute_result"
    }
   ],
   "source": [
    "linregr = linear_model.LinearRegression()\n",
    "linregr.fit(X_train,y_train)"
   ]
  },
  {
   "cell_type": "code",
   "execution_count": 238,
   "metadata": {},
   "outputs": [
    {
     "name": "stdout",
     "output_type": "stream",
     "text": [
      "Coefficients: \n",
      " [  6.10188559e-02  -9.78373198e-14  -1.50999504e-02   1.37308552e-02\n",
      "  -3.23821611e-01  -7.14706072e-16  -1.56979234e-04   2.84184477e-05\n",
      "   7.67334105e-05   1.84061520e-04   1.29048260e+00   1.08381525e-01\n",
      "  -8.14364681e-02  -4.38233410e-01   4.28376140e+00   1.48382120e-01]\n"
     ]
    }
   ],
   "source": [
    "# The coefficients\n",
    "print('Coefficients: \\n', linregr.coef_)"
   ]
  },
  {
   "cell_type": "code",
   "execution_count": 239,
   "metadata": {},
   "outputs": [],
   "source": [
    "y_pred = linregr.predict(X_test)"
   ]
  },
  {
   "cell_type": "code",
   "execution_count": 241,
   "metadata": {},
   "outputs": [
    {
     "name": "stdout",
     "output_type": "stream",
     "text": [
      "Root mean squared error: 42.49\n",
      "Variance score: 0.02\n"
     ]
    }
   ],
   "source": [
    "loss = mean_squared_error(y_test, y_pred)\n",
    "r2 = r2_score(y_test, y_pred)\n",
    "\n",
    "# The mean squared error\n",
    "print(\"Root mean squared error: %.2f\" % loss**(1/2))\n",
    "# Explained variance score: 1 is perfect prediction\n",
    "print('Variance score: %.2f' % r2)"
   ]
  },
  {
   "cell_type": "markdown",
   "metadata": {},
   "source": [
    "## Decision tree regression"
   ]
  },
  {
   "cell_type": "code",
   "execution_count": 253,
   "metadata": {},
   "outputs": [],
   "source": [
    "model = DecisionTreeRegressor(max_depth= 5) \n",
    "\n",
    "model.fit(X_train,y_train)\n",
    "\n",
    "y_pred = model.predict(X_test)\n",
    "\n",
    "score =  model.score(X_test, y_test)\n",
    "msqr = mean_squared_error(y_test, y_pred)**(1/2)\n",
    "r2 = r2_score(y_test, y_pred)\n"
   ]
  },
  {
   "cell_type": "code",
   "execution_count": 254,
   "metadata": {},
   "outputs": [
    {
     "data": {
      "text/plain": [
       "(0.12896435123799443, 40.096367365950968, 0.12896435123799443)"
      ]
     },
     "execution_count": 254,
     "metadata": {},
     "output_type": "execute_result"
    }
   ],
   "source": [
    "score, msqr, r2"
   ]
  },
  {
   "cell_type": "code",
   "execution_count": 261,
   "metadata": {},
   "outputs": [],
   "source": [
    "model = DecisionTreeRegressor(max_depth= 10) \n",
    "\n",
    "model.fit(X_train,y_train)\n",
    "\n",
    "y_pred = model.predict(X_test)\n",
    "\n",
    "score =  model.score(X_test, y_test)\n",
    "msqr = mean_squared_error(y_test, y_pred)**(1/2)\n",
    "r2 = r2_score(y_test, y_pred)"
   ]
  },
  {
   "cell_type": "code",
   "execution_count": 262,
   "metadata": {},
   "outputs": [
    {
     "data": {
      "text/plain": [
       "(0.20922278062880162, 38.204466408218053, 0.20922278062880162)"
      ]
     },
     "execution_count": 262,
     "metadata": {},
     "output_type": "execute_result"
    }
   ],
   "source": [
    "score, msqr, r2"
   ]
  },
  {
   "cell_type": "code",
   "execution_count": 265,
   "metadata": {},
   "outputs": [],
   "source": [
    "#Overfitting for maxdepth around 20, 16 is still fine.\n",
    "model = DecisionTreeRegressor(max_depth= 20) \n",
    "\n",
    "model.fit(X_train,y_train)\n",
    "\n",
    "y_pred = model.predict(X_test)\n",
    "\n",
    "score =  model.score(X_test, y_test)\n",
    "msqr = mean_squared_error(y_test, y_pred)**(1/2)\n",
    "r2 = r2_score(y_test, y_pred)"
   ]
  },
  {
   "cell_type": "code",
   "execution_count": 266,
   "metadata": {},
   "outputs": [
    {
     "data": {
      "text/plain": [
       "(0.15913644399426508, 39.395791341916357, 0.15913644399426508)"
      ]
     },
     "execution_count": 266,
     "metadata": {},
     "output_type": "execute_result"
    }
   ],
   "source": [
    "score, msqr, r2"
   ]
  },
  {
   "cell_type": "markdown",
   "metadata": {},
   "source": [
    "## Random Forest regression¶"
   ]
  },
  {
   "cell_type": "code",
   "execution_count": 270,
   "metadata": {},
   "outputs": [
    {
     "data": {
      "text/plain": [
       "(0.18581674337355703, 38.765746105827752, 0.18581674337355703)"
      ]
     },
     "execution_count": 270,
     "metadata": {},
     "output_type": "execute_result"
    }
   ],
   "source": [
    "model = RandomForestRegressor(max_depth=8)\n",
    "\n",
    "model.fit(X_train,y_train)\n",
    "\n",
    "y_pred = model.predict(X_test)\n",
    "\n",
    "score =  model.score(X_test, y_test)\n",
    "msqr = mean_squared_error(y_test, y_pred)**(1/2)\n",
    "r2 = r2_score(y_test, y_pred)\n",
    "\n",
    "score, msqr, r2"
   ]
  },
  {
   "cell_type": "code",
   "execution_count": 271,
   "metadata": {},
   "outputs": [
    {
     "data": {
      "text/plain": [
       "(0.1107902952430093, 40.512510862015411, 0.11079029524300932)"
      ]
     },
     "execution_count": 271,
     "metadata": {},
     "output_type": "execute_result"
    }
   ],
   "source": [
    "model = RandomForestRegressor(max_depth=4)\n",
    "\n",
    "model.fit(X_train,y_train)\n",
    "\n",
    "y_pred = model.predict(X_test)\n",
    "\n",
    "score =  model.score(X_test, y_test)\n",
    "msqr = mean_squared_error(y_test, y_pred)**(1/2)\n",
    "r2 = r2_score(y_test, y_pred)\n",
    "\n",
    "score, msqr, r2"
   ]
  },
  {
   "cell_type": "code",
   "execution_count": 272,
   "metadata": {},
   "outputs": [
    {
     "data": {
      "text/plain": [
       "(0.26622949471425361, 36.801641378803247, 0.26622949471425361)"
      ]
     },
     "execution_count": 272,
     "metadata": {},
     "output_type": "execute_result"
    }
   ],
   "source": [
    "model = RandomForestRegressor(max_depth=12)\n",
    "\n",
    "model.fit(X_train,y_train)\n",
    "\n",
    "y_pred = model.predict(X_test)\n",
    "\n",
    "score =  model.score(X_test, y_test)\n",
    "msqr = mean_squared_error(y_test, y_pred)**(1/2)\n",
    "r2 = r2_score(y_test, y_pred)\n",
    "\n",
    "score, msqr, r2"
   ]
  },
  {
   "cell_type": "code",
   "execution_count": 273,
   "metadata": {},
   "outputs": [
    {
     "data": {
      "text/plain": [
       "(0.31080027985863135, 35.666427417367892, 0.31080027985863135)"
      ]
     },
     "execution_count": 273,
     "metadata": {},
     "output_type": "execute_result"
    }
   ],
   "source": [
    "model = RandomForestRegressor(max_depth=16)\n",
    "\n",
    "model.fit(X_train,y_train)\n",
    "\n",
    "y_pred = model.predict(X_test)\n",
    "\n",
    "score =  model.score(X_test, y_test)\n",
    "msqr = mean_squared_error(y_test, y_pred)**(1/2)\n",
    "r2 = r2_score(y_test, y_pred)\n",
    "\n",
    "score, msqr, r2"
   ]
  },
  {
   "cell_type": "code",
   "execution_count": 274,
   "metadata": {},
   "outputs": [
    {
     "data": {
      "text/plain": [
       "(0.32105052529429279, 35.400206210594995, 0.32105052529429279)"
      ]
     },
     "execution_count": 274,
     "metadata": {},
     "output_type": "execute_result"
    }
   ],
   "source": [
    "model = RandomForestRegressor(max_depth=20)\n",
    "\n",
    "model.fit(X_train,y_train)\n",
    "\n",
    "y_pred = model.predict(X_test)\n",
    "\n",
    "score =  model.score(X_test, y_test)\n",
    "msqr = mean_squared_error(y_test, y_pred)**(1/2)\n",
    "r2 = r2_score(y_test, y_pred)\n",
    "\n",
    "score, msqr, r2"
   ]
  },
  {
   "cell_type": "code",
   "execution_count": 275,
   "metadata": {},
   "outputs": [
    {
     "data": {
      "text/plain": [
       "(0.25845758483778591, 36.996024815047477, 0.25845758483778591)"
      ]
     },
     "execution_count": 275,
     "metadata": {},
     "output_type": "execute_result"
    }
   ],
   "source": [
    "# Left to its own device, the model is overfitting.\n",
    "model = RandomForestRegressor()\n",
    "\n",
    "model.fit(X_train,y_train)\n",
    "\n",
    "y_pred = model.predict(X_test)\n",
    "\n",
    "score =  model.score(X_test, y_test)\n",
    "msqr = mean_squared_error(y_test, y_pred)**(1/2)\n",
    "r2 = r2_score(y_test, y_pred)\n",
    "\n",
    "score, msqr, r2"
   ]
  },
  {
   "cell_type": "markdown",
   "metadata": {},
   "source": [
    "## Boosted trees\n",
    "#https://xgboost.readthedocs.io/en/latest/model.html"
   ]
  },
  {
   "cell_type": "code",
   "execution_count": null,
   "metadata": {},
   "outputs": [],
   "source": []
  },
  {
   "cell_type": "markdown",
   "metadata": {},
   "source": [
    "## One Hot Encoding"
   ]
  },
  {
   "cell_type": "code",
   "execution_count": 276,
   "metadata": {},
   "outputs": [],
   "source": [
    "X_ohe = pd.get_dummies(data=X_df[mask_sub], columns=cat_features)"
   ]
  },
  {
   "cell_type": "code",
   "execution_count": 277,
   "metadata": {},
   "outputs": [
    {
     "name": "stdout",
     "output_type": "stream",
     "text": [
      "<class 'pandas.core.frame.DataFrame'>\n",
      "Int64Index: 438680 entries, 2 to 5752315\n",
      "Columns: 30517 entries, ChargeAmount to FacilityType_Urgent Care Facility\n",
      "dtypes: float64(1), uint8(30516)\n",
      "memory usage: 12.5 GB\n"
     ]
    }
   ],
   "source": [
    "X_ohe.info()"
   ]
  },
  {
   "cell_type": "code",
   "execution_count": 278,
   "metadata": {},
   "outputs": [],
   "source": [
    "test_size = 0.2\n",
    "threshold = 1 - test_size\n",
    "mask_split = np.random.rand(len(X_ohe)) < threshold"
   ]
  },
  {
   "cell_type": "code",
   "execution_count": 283,
   "metadata": {},
   "outputs": [
    {
     "ename": "NameError",
     "evalue": "name 'y_ohe' is not defined",
     "output_type": "error",
     "traceback": [
      "\u001b[0;31m---------------------------------------------------------------------------\u001b[0m",
      "\u001b[0;31mNameError\u001b[0m                                 Traceback (most recent call last)",
      "\u001b[0;32m<ipython-input-283-8bbf38a83215>\u001b[0m in \u001b[0;36m<module>\u001b[0;34m()\u001b[0m\n\u001b[1;32m      1\u001b[0m \u001b[0mX_train\u001b[0m \u001b[0;34m=\u001b[0m \u001b[0mX_ohe\u001b[0m\u001b[0;34m[\u001b[0m\u001b[0mmask_split\u001b[0m \u001b[0;34m]\u001b[0m\u001b[0;34m\u001b[0m\u001b[0m\n\u001b[1;32m      2\u001b[0m \u001b[0mX_test\u001b[0m \u001b[0;34m=\u001b[0m \u001b[0mX_ohe\u001b[0m\u001b[0;34m[\u001b[0m\u001b[0;34m~\u001b[0m\u001b[0mmask_split\u001b[0m \u001b[0;34m]\u001b[0m\u001b[0;34m\u001b[0m\u001b[0m\n\u001b[0;32m----> 3\u001b[0;31m \u001b[0my_train\u001b[0m \u001b[0;34m=\u001b[0m \u001b[0my_ohe\u001b[0m\u001b[0;34m[\u001b[0m\u001b[0mmask_split\u001b[0m \u001b[0;34m]\u001b[0m\u001b[0;34m\u001b[0m\u001b[0m\n\u001b[0m\u001b[1;32m      4\u001b[0m \u001b[0my_test\u001b[0m \u001b[0;34m=\u001b[0m \u001b[0my_ohe\u001b[0m\u001b[0;34m[\u001b[0m\u001b[0;34m~\u001b[0m\u001b[0mmask_split\u001b[0m \u001b[0;34m]\u001b[0m\u001b[0;34m\u001b[0m\u001b[0m\n",
      "\u001b[0;31mNameError\u001b[0m: name 'y_ohe' is not defined"
     ]
    }
   ],
   "source": [
    "X_train = X_ohe[mask_split ]\n",
    "X_test = X_ohe[~mask_split ]\n",
    "y_train = X_ohe[mask_split ]\n",
    "y_test = X_ohe[~mask_split ]"
   ]
  },
  {
   "cell_type": "code",
   "execution_count": 282,
   "metadata": {},
   "outputs": [
    {
     "name": "stdout",
     "output_type": "stream",
     "text": [
      "<class 'pandas.core.frame.DataFrame'>\n",
      "Int64Index: 351066 entries, 2 to 5752315\n",
      "Columns: 30517 entries, ChargeAmount to FacilityType_Urgent Care Facility\n",
      "dtypes: float64(1), uint8(30516)\n",
      "memory usage: 10.0 GB\n"
     ]
    }
   ],
   "source": [
    "y_train.info()"
   ]
  },
  {
   "cell_type": "markdown",
   "metadata": {},
   "source": [
    "## Linear regression"
   ]
  },
  {
   "cell_type": "code",
   "execution_count": 280,
   "metadata": {},
   "outputs": [
    {
     "ename": "MemoryError",
     "evalue": "",
     "output_type": "error",
     "traceback": [
      "\u001b[0;31m---------------------------------------------------------------------------\u001b[0m",
      "\u001b[0;31mMemoryError\u001b[0m                               Traceback (most recent call last)",
      "\u001b[0;32m<ipython-input-280-d10848a46420>\u001b[0m in \u001b[0;36m<module>\u001b[0;34m()\u001b[0m\n\u001b[1;32m      1\u001b[0m \u001b[0mmodel\u001b[0m \u001b[0;34m=\u001b[0m \u001b[0mlinear_model\u001b[0m\u001b[0;34m.\u001b[0m\u001b[0mLinearRegression\u001b[0m\u001b[0;34m(\u001b[0m\u001b[0;34m)\u001b[0m\u001b[0;34m\u001b[0m\u001b[0m\n\u001b[1;32m      2\u001b[0m \u001b[0;34m\u001b[0m\u001b[0m\n\u001b[0;32m----> 3\u001b[0;31m \u001b[0mmodel\u001b[0m\u001b[0;34m.\u001b[0m\u001b[0mfit\u001b[0m\u001b[0;34m(\u001b[0m\u001b[0mX_train\u001b[0m\u001b[0;34m,\u001b[0m\u001b[0my_train\u001b[0m\u001b[0;34m)\u001b[0m\u001b[0;34m\u001b[0m\u001b[0m\n\u001b[0m\u001b[1;32m      4\u001b[0m \u001b[0;34m\u001b[0m\u001b[0m\n\u001b[1;32m      5\u001b[0m \u001b[0my_pred\u001b[0m \u001b[0;34m=\u001b[0m \u001b[0mmodel\u001b[0m\u001b[0;34m.\u001b[0m\u001b[0mpredict\u001b[0m\u001b[0;34m(\u001b[0m\u001b[0mX_test\u001b[0m\u001b[0;34m)\u001b[0m\u001b[0;34m\u001b[0m\u001b[0m\n",
      "\u001b[0;32m/etc/anaconda/envs/python35/lib/python3.5/site-packages/sklearn/linear_model/base.py\u001b[0m in \u001b[0;36mfit\u001b[0;34m(self, X, y, sample_weight)\u001b[0m\n\u001b[1;32m    480\u001b[0m         \u001b[0mn_jobs_\u001b[0m \u001b[0;34m=\u001b[0m \u001b[0mself\u001b[0m\u001b[0;34m.\u001b[0m\u001b[0mn_jobs\u001b[0m\u001b[0;34m\u001b[0m\u001b[0m\n\u001b[1;32m    481\u001b[0m         X, y = check_X_y(X, y, accept_sparse=['csr', 'csc', 'coo'],\n\u001b[0;32m--> 482\u001b[0;31m                          y_numeric=True, multi_output=True)\n\u001b[0m\u001b[1;32m    483\u001b[0m \u001b[0;34m\u001b[0m\u001b[0m\n\u001b[1;32m    484\u001b[0m         \u001b[0;32mif\u001b[0m \u001b[0msample_weight\u001b[0m \u001b[0;32mis\u001b[0m \u001b[0;32mnot\u001b[0m \u001b[0;32mNone\u001b[0m \u001b[0;32mand\u001b[0m \u001b[0mnp\u001b[0m\u001b[0;34m.\u001b[0m\u001b[0matleast_1d\u001b[0m\u001b[0;34m(\u001b[0m\u001b[0msample_weight\u001b[0m\u001b[0;34m)\u001b[0m\u001b[0;34m.\u001b[0m\u001b[0mndim\u001b[0m \u001b[0;34m>\u001b[0m \u001b[0;36m1\u001b[0m\u001b[0;34m:\u001b[0m\u001b[0;34m\u001b[0m\u001b[0m\n",
      "\u001b[0;32m/etc/anaconda/envs/python35/lib/python3.5/site-packages/sklearn/utils/validation.py\u001b[0m in \u001b[0;36mcheck_X_y\u001b[0;34m(X, y, accept_sparse, dtype, order, copy, force_all_finite, ensure_2d, allow_nd, multi_output, ensure_min_samples, ensure_min_features, y_numeric, warn_on_dtype, estimator)\u001b[0m\n\u001b[1;32m    571\u001b[0m     X = check_array(X, accept_sparse, dtype, order, copy, force_all_finite,\n\u001b[1;32m    572\u001b[0m                     \u001b[0mensure_2d\u001b[0m\u001b[0;34m,\u001b[0m \u001b[0mallow_nd\u001b[0m\u001b[0;34m,\u001b[0m \u001b[0mensure_min_samples\u001b[0m\u001b[0;34m,\u001b[0m\u001b[0;34m\u001b[0m\u001b[0m\n\u001b[0;32m--> 573\u001b[0;31m                     ensure_min_features, warn_on_dtype, estimator)\n\u001b[0m\u001b[1;32m    574\u001b[0m     \u001b[0;32mif\u001b[0m \u001b[0mmulti_output\u001b[0m\u001b[0;34m:\u001b[0m\u001b[0;34m\u001b[0m\u001b[0m\n\u001b[1;32m    575\u001b[0m         y = check_array(y, 'csr', force_all_finite=True, ensure_2d=False,\n",
      "\u001b[0;32m/etc/anaconda/envs/python35/lib/python3.5/site-packages/sklearn/utils/validation.py\u001b[0m in \u001b[0;36mcheck_array\u001b[0;34m(array, accept_sparse, dtype, order, copy, force_all_finite, ensure_2d, allow_nd, ensure_min_samples, ensure_min_features, warn_on_dtype, estimator)\u001b[0m\n\u001b[1;32m    431\u001b[0m                                       force_all_finite)\n\u001b[1;32m    432\u001b[0m     \u001b[0;32melse\u001b[0m\u001b[0;34m:\u001b[0m\u001b[0;34m\u001b[0m\u001b[0m\n\u001b[0;32m--> 433\u001b[0;31m         \u001b[0marray\u001b[0m \u001b[0;34m=\u001b[0m \u001b[0mnp\u001b[0m\u001b[0;34m.\u001b[0m\u001b[0marray\u001b[0m\u001b[0;34m(\u001b[0m\u001b[0marray\u001b[0m\u001b[0;34m,\u001b[0m \u001b[0mdtype\u001b[0m\u001b[0;34m=\u001b[0m\u001b[0mdtype\u001b[0m\u001b[0;34m,\u001b[0m \u001b[0morder\u001b[0m\u001b[0;34m=\u001b[0m\u001b[0morder\u001b[0m\u001b[0;34m,\u001b[0m \u001b[0mcopy\u001b[0m\u001b[0;34m=\u001b[0m\u001b[0mcopy\u001b[0m\u001b[0;34m)\u001b[0m\u001b[0;34m\u001b[0m\u001b[0m\n\u001b[0m\u001b[1;32m    434\u001b[0m \u001b[0;34m\u001b[0m\u001b[0m\n\u001b[1;32m    435\u001b[0m         \u001b[0;32mif\u001b[0m \u001b[0mensure_2d\u001b[0m\u001b[0;34m:\u001b[0m\u001b[0;34m\u001b[0m\u001b[0m\n",
      "\u001b[0;32m/etc/anaconda/envs/python35/lib/python3.5/site-packages/pandas/core/generic.py\u001b[0m in \u001b[0;36m__array__\u001b[0;34m(self, dtype)\u001b[0m\n\u001b[1;32m   1149\u001b[0m \u001b[0;34m\u001b[0m\u001b[0m\n\u001b[1;32m   1150\u001b[0m     \u001b[0;32mdef\u001b[0m \u001b[0m__array__\u001b[0m\u001b[0;34m(\u001b[0m\u001b[0mself\u001b[0m\u001b[0;34m,\u001b[0m \u001b[0mdtype\u001b[0m\u001b[0;34m=\u001b[0m\u001b[0;32mNone\u001b[0m\u001b[0;34m)\u001b[0m\u001b[0;34m:\u001b[0m\u001b[0;34m\u001b[0m\u001b[0m\n\u001b[0;32m-> 1151\u001b[0;31m         \u001b[0;32mreturn\u001b[0m \u001b[0m_values_from_object\u001b[0m\u001b[0;34m(\u001b[0m\u001b[0mself\u001b[0m\u001b[0;34m)\u001b[0m\u001b[0;34m\u001b[0m\u001b[0m\n\u001b[0m\u001b[1;32m   1152\u001b[0m \u001b[0;34m\u001b[0m\u001b[0m\n\u001b[1;32m   1153\u001b[0m     \u001b[0;32mdef\u001b[0m \u001b[0m__array_wrap__\u001b[0m\u001b[0;34m(\u001b[0m\u001b[0mself\u001b[0m\u001b[0;34m,\u001b[0m \u001b[0mresult\u001b[0m\u001b[0;34m,\u001b[0m \u001b[0mcontext\u001b[0m\u001b[0;34m=\u001b[0m\u001b[0;32mNone\u001b[0m\u001b[0;34m)\u001b[0m\u001b[0;34m:\u001b[0m\u001b[0;34m\u001b[0m\u001b[0m\n",
      "\u001b[0;32mpandas/_libs/lib.pyx\u001b[0m in \u001b[0;36mpandas._libs.lib.values_from_object\u001b[0;34m()\u001b[0m\n",
      "\u001b[0;32m/etc/anaconda/envs/python35/lib/python3.5/site-packages/pandas/core/generic.py\u001b[0m in \u001b[0;36mget_values\u001b[0;34m(self)\u001b[0m\n\u001b[1;32m   3823\u001b[0m     \u001b[0;32mdef\u001b[0m \u001b[0mget_values\u001b[0m\u001b[0;34m(\u001b[0m\u001b[0mself\u001b[0m\u001b[0;34m)\u001b[0m\u001b[0;34m:\u001b[0m\u001b[0;34m\u001b[0m\u001b[0m\n\u001b[1;32m   3824\u001b[0m         \u001b[0;34m\"\"\"same as values (but handles sparseness conversions)\"\"\"\u001b[0m\u001b[0;34m\u001b[0m\u001b[0m\n\u001b[0;32m-> 3825\u001b[0;31m         \u001b[0;32mreturn\u001b[0m \u001b[0mself\u001b[0m\u001b[0;34m.\u001b[0m\u001b[0mas_matrix\u001b[0m\u001b[0;34m(\u001b[0m\u001b[0;34m)\u001b[0m\u001b[0;34m\u001b[0m\u001b[0m\n\u001b[0m\u001b[1;32m   3826\u001b[0m \u001b[0;34m\u001b[0m\u001b[0m\n\u001b[1;32m   3827\u001b[0m     \u001b[0;32mdef\u001b[0m \u001b[0mget_dtype_counts\u001b[0m\u001b[0;34m(\u001b[0m\u001b[0mself\u001b[0m\u001b[0;34m)\u001b[0m\u001b[0;34m:\u001b[0m\u001b[0;34m\u001b[0m\u001b[0m\n",
      "\u001b[0;32m/etc/anaconda/envs/python35/lib/python3.5/site-packages/pandas/core/generic.py\u001b[0m in \u001b[0;36mas_matrix\u001b[0;34m(self, columns)\u001b[0m\n\u001b[1;32m   3790\u001b[0m         \u001b[0mself\u001b[0m\u001b[0;34m.\u001b[0m\u001b[0m_consolidate_inplace\u001b[0m\u001b[0;34m(\u001b[0m\u001b[0;34m)\u001b[0m\u001b[0;34m\u001b[0m\u001b[0m\n\u001b[1;32m   3791\u001b[0m         \u001b[0;32mif\u001b[0m \u001b[0mself\u001b[0m\u001b[0;34m.\u001b[0m\u001b[0m_AXIS_REVERSED\u001b[0m\u001b[0;34m:\u001b[0m\u001b[0;34m\u001b[0m\u001b[0m\n\u001b[0;32m-> 3792\u001b[0;31m             \u001b[0;32mreturn\u001b[0m \u001b[0mself\u001b[0m\u001b[0;34m.\u001b[0m\u001b[0m_data\u001b[0m\u001b[0;34m.\u001b[0m\u001b[0mas_matrix\u001b[0m\u001b[0;34m(\u001b[0m\u001b[0mcolumns\u001b[0m\u001b[0;34m)\u001b[0m\u001b[0;34m.\u001b[0m\u001b[0mT\u001b[0m\u001b[0;34m\u001b[0m\u001b[0m\n\u001b[0m\u001b[1;32m   3793\u001b[0m         \u001b[0;32mreturn\u001b[0m \u001b[0mself\u001b[0m\u001b[0;34m.\u001b[0m\u001b[0m_data\u001b[0m\u001b[0;34m.\u001b[0m\u001b[0mas_matrix\u001b[0m\u001b[0;34m(\u001b[0m\u001b[0mcolumns\u001b[0m\u001b[0;34m)\u001b[0m\u001b[0;34m\u001b[0m\u001b[0m\n\u001b[1;32m   3794\u001b[0m \u001b[0;34m\u001b[0m\u001b[0m\n",
      "\u001b[0;32m/etc/anaconda/envs/python35/lib/python3.5/site-packages/pandas/core/internals.py\u001b[0m in \u001b[0;36mas_matrix\u001b[0;34m(self, items)\u001b[0m\n\u001b[1;32m   3676\u001b[0m             \u001b[0;32mreturn\u001b[0m \u001b[0mmgr\u001b[0m\u001b[0;34m.\u001b[0m\u001b[0mblocks\u001b[0m\u001b[0;34m[\u001b[0m\u001b[0;36m0\u001b[0m\u001b[0;34m]\u001b[0m\u001b[0;34m.\u001b[0m\u001b[0mget_values\u001b[0m\u001b[0;34m(\u001b[0m\u001b[0;34m)\u001b[0m\u001b[0;34m\u001b[0m\u001b[0m\n\u001b[1;32m   3677\u001b[0m         \u001b[0;32melse\u001b[0m\u001b[0;34m:\u001b[0m\u001b[0;34m\u001b[0m\u001b[0m\n\u001b[0;32m-> 3678\u001b[0;31m             \u001b[0;32mreturn\u001b[0m \u001b[0mmgr\u001b[0m\u001b[0;34m.\u001b[0m\u001b[0m_interleave\u001b[0m\u001b[0;34m(\u001b[0m\u001b[0;34m)\u001b[0m\u001b[0;34m\u001b[0m\u001b[0m\n\u001b[0m\u001b[1;32m   3679\u001b[0m \u001b[0;34m\u001b[0m\u001b[0m\n\u001b[1;32m   3680\u001b[0m     \u001b[0;32mdef\u001b[0m \u001b[0m_interleave\u001b[0m\u001b[0;34m(\u001b[0m\u001b[0mself\u001b[0m\u001b[0;34m)\u001b[0m\u001b[0;34m:\u001b[0m\u001b[0;34m\u001b[0m\u001b[0m\n",
      "\u001b[0;32m/etc/anaconda/envs/python35/lib/python3.5/site-packages/pandas/core/internals.py\u001b[0m in \u001b[0;36m_interleave\u001b[0;34m(self)\u001b[0m\n\u001b[1;32m   3685\u001b[0m         \u001b[0mdtype\u001b[0m \u001b[0;34m=\u001b[0m \u001b[0m_interleaved_dtype\u001b[0m\u001b[0;34m(\u001b[0m\u001b[0mself\u001b[0m\u001b[0;34m.\u001b[0m\u001b[0mblocks\u001b[0m\u001b[0;34m)\u001b[0m\u001b[0;34m\u001b[0m\u001b[0m\n\u001b[1;32m   3686\u001b[0m \u001b[0;34m\u001b[0m\u001b[0m\n\u001b[0;32m-> 3687\u001b[0;31m         \u001b[0mresult\u001b[0m \u001b[0;34m=\u001b[0m \u001b[0mnp\u001b[0m\u001b[0;34m.\u001b[0m\u001b[0mempty\u001b[0m\u001b[0;34m(\u001b[0m\u001b[0mself\u001b[0m\u001b[0;34m.\u001b[0m\u001b[0mshape\u001b[0m\u001b[0;34m,\u001b[0m \u001b[0mdtype\u001b[0m\u001b[0;34m=\u001b[0m\u001b[0mdtype\u001b[0m\u001b[0;34m)\u001b[0m\u001b[0;34m\u001b[0m\u001b[0m\n\u001b[0m\u001b[1;32m   3688\u001b[0m \u001b[0;34m\u001b[0m\u001b[0m\n\u001b[1;32m   3689\u001b[0m         \u001b[0;32mif\u001b[0m \u001b[0mresult\u001b[0m\u001b[0;34m.\u001b[0m\u001b[0mshape\u001b[0m\u001b[0;34m[\u001b[0m\u001b[0;36m0\u001b[0m\u001b[0;34m]\u001b[0m \u001b[0;34m==\u001b[0m \u001b[0;36m0\u001b[0m\u001b[0;34m:\u001b[0m\u001b[0;34m\u001b[0m\u001b[0m\n",
      "\u001b[0;31mMemoryError\u001b[0m: "
     ]
    }
   ],
   "source": [
    "model = linear_model.LinearRegression()\n",
    "\n",
    "model.fit(X_train,y_train)\n",
    "\n",
    "y_pred = model.predict(X_test)\n",
    "msqr = mean_squared_error(y_test, y_pred)**(1/2)\n",
    "r2 = r2_score(y_test, y_pred)\n",
    "\n",
    "score, msqr, r2"
   ]
  },
  {
   "cell_type": "code",
   "execution_count": null,
   "metadata": {},
   "outputs": [],
   "source": [
    "\n",
    "encoder = OneHotEncoder(handle_unknown='ignore')\n",
    "encoder.fit(X_train) ##  use both train and test here optimally\n",
    "X_train = enc.transform(X_train)\n",
    "X_test_one_hot = enc.transform(X_test_ordinal)\n",
    "l.fit(X_train_one_hot,y_train)\n",
    "y_pred = l.predict_proba(X_test_one_hot)\n",
    "print(log_loss(y_test,y_pred))\n",
    "r.fit(X_train_one_hot,y_train)\n",
    "y_pred = r.predict_proba(X_test_one_hot)\n",
    "print(log_loss(y_test,y_pred))\n",
    "print(X_train_one_hot.shape)"
   ]
  },
  {
   "cell_type": "code",
   "execution_count": 113,
   "metadata": {},
   "outputs": [],
   "source": [
    "encoder = preprocessing.OneHotEncoder(handle_unknown='ignore')\n",
    "encoder.fit(X_train[:,1:])\n",
    "X_one_hot = encoder.transform(X_ordinal[:,1:])\n",
    "\n",
    "# Classically, the encoder is fitted using X_train_ordinal and then we transform X_train and X_test.\n",
    "# What happens if some category levels of X_test do not appear in X_train?\n",
    "# Is that what handle_unknown handles?\n",
    "# We prefer so far to use the whole X to fit the encoder."
   ]
  },
  {
   "cell_type": "code",
   "execution_count": 115,
   "metadata": {},
   "outputs": [
    {
     "data": {
      "text/plain": [
       "(5752317, 70959)"
      ]
     },
     "execution_count": 115,
     "metadata": {},
     "output_type": "execute_result"
    }
   ],
   "source": [
    "X_one_hot.shape"
   ]
  },
  {
   "cell_type": "markdown",
   "metadata": {},
   "source": []
  },
  {
   "cell_type": "code",
   "execution_count": 110,
   "metadata": {},
   "outputs": [],
   "source": []
  },
  {
   "cell_type": "code",
   "execution_count": null,
   "metadata": {},
   "outputs": [],
   "source": []
  },
  {
   "cell_type": "markdown",
   "metadata": {},
   "source": [
    "## Fitting"
   ]
  },
  {
   "cell_type": "code",
   "execution_count": null,
   "metadata": {},
   "outputs": [],
   "source": []
  },
  {
   "cell_type": "markdown",
   "metadata": {},
   "source": [
    "# Helper Code"
   ]
  },
  {
   "cell_type": "code",
   "execution_count": null,
   "metadata": {},
   "outputs": [],
   "source": [
    "class DataFrameSelectorAsCategory(BaseEstimator, TransformerMixin):\n",
    "    def __init__(self, attribute_names):\n",
    "        self.attribute_names = attribute_names\n",
    "    def fit(self, X, y=None):\n",
    "        return self;\n",
    "    def transform(self, X):\n",
    "        return X[self.attribute_names].astype('category').values\n",
    "    \n",
    "class DataFrameSelector(BaseEstimator, TransformerMixin):\n",
    "    def __init__(self, attribute_names):\n",
    "        self.attribute_names = attribute_names\n",
    "    def fit(self, X, y=None):\n",
    "        return self;\n",
    "    def transform(self, X):\n",
    "        return X[self.attribute_names].astype('|S').values\n",
    "\n",
    "class DataFrameNumericCleanerSelector(BaseEstimator, TransformerMixin):\n",
    "    def __init__(self, attribute_names):\n",
    "        self.attribute_names = attribute_names\n",
    "    def fit(self, X, y=None):\n",
    "        return self;\n",
    "    def transform(self, X):\n",
    "        return np.nan_to_num(X[self.attribute_names].values)\n",
    "    \n",
    "def get_label_encoded_category_data(selector, df):\n",
    "    encoder = LabelEncoder()\n",
    "    category_clean = selector.fit_transform(df)\n",
    "    category_encoded= encoder.fit_transform(category_clean)\n",
    "    return category_encoded\n",
    "\n",
    "# JLL: Commented version \n",
    "def prepare_data(df):\n",
    "\n",
    "    #now create a dataframe for each state before proceeding\n",
    "\n",
    "    #cleanup and scale the numerical data \n",
    "    num_feature_pipeline = Pipeline([\n",
    "        ('selector', DataFrameNumericCleanerSelector(DF_numeric_features)),\n",
    "        ])\n",
    "    num_label_pipeline = Pipeline([\n",
    "        ('selector', DataFrameNumericCleanerSelector(DF_numeric_labels)),\n",
    "        ])\n",
    "    claims_labels_dict = {}\n",
    "    claims_numeric_labels = {}\n",
    "    claims_feature_encoded = {}\n",
    "    claims_data_encoded = {}\n",
    "\n",
    "    for payer_cat in payer_cat_value_count.index:\n",
    "        cat_df = df[df[PAYER_CAT] == payer_cat]\n",
    "        # cat_df picks the rows of dataframe df with PAYER_CAT entry payer_cat\n",
    "        claims_labels_dict[payer_cat] = {}\n",
    "        claims_numeric_labels[payer_cat] = {}\n",
    "        claims_feature_encoded[payer_cat] = {}\n",
    "        claims_data_encoded[payer_cat] = {}\n",
    "        for state in state_value_count.index:\n",
    "            if state != 0:\n",
    "                print(state)\n",
    "\n",
    "                state_df = cat_df[cat_df[PAYER_STATE] == state]  \n",
    "                # Likewise state_df picks the rows of dataframe df with \n",
    "                # suitable PAYER_CAT entry and PAYER_STATE entry. Double grouping/indexing.\n",
    "                # That is the dataframe we want to work with\n",
    "                if state_df.shape[0] > 1000 :\n",
    "                # Require at least 1000 rows    \n",
    "    \n",
    "\n",
    "                    claims_feature_encoded[payer_cat][state] = num_feature_pipeline.fit_transform(state_df)\n",
    "                    # Returns an array of values ( as many as df has rows)\n",
    "                    # The values are of the type array([ 33.]). The content 33.\n",
    "                    # is df[payer_cat][state] entry. df index is lost though.\n",
    "                    claims_numeric_labels[payer_cat][state] = num_label_pipeline.fit_transform(state_df)\n",
    "                    # Returns an array of values ( as many as df has rows)\n",
    "                    # The values are of the type array([  71.26,   20.  ,  133.74,    0.  ,    0.  ,    0.  ])\n",
    "                    # The contents are the state_df entries for  DF_numeric_labels which is\n",
    "                    # ['PaidAmount', 'AdjAmt1', 'AdjAmt2', 'AdjAmt3', 'AdjAmt4', 'AdjAmt5']\n",
    "                    \n",
    "                    #create a dictionary so that the data can be grouped based on various labels\n",
    "                    claims_labels_dict[payer_cat][state] = {}\n",
    "                    claims_labels_dict[payer_cat][state][NUMERIC] = claims_numeric_labels[payer_cat][state]\n",
    "                    #one hot encode the categorial labels and features\n",
    "                    for category in DF_cat_labels:\n",
    "                        print(category)\n",
    "                        selector = DataFrameSelector(category)\n",
    "                        claims_labels_dict[payer_cat][state][category] = get_label_encoded_category_data(selector, state_df)\n",
    "                        # we get one array of numerized values via LabelEncoder per category\n",
    "                        # The labels columns are kept separate; they all have a key\n",
    "                    for category in DF_cat_features:\n",
    "                        print(category)\n",
    "                        selector = DataFrameSelector(category)\n",
    "                        temp = get_label_encoded_category_data(selector,state_df).reshape(-1,1)\n",
    "                        # we now have an array as for DF_cat_labels, we reshape it and put them all together in one big matrix X. \n",
    "                        claims_feature_encoded[payer_cat][state] = np.hstack([claims_feature_encoded[payer_cat][state],temp])\n",
    "# The keys of the dictionary claims_labels_dict[payer_cat][state] are\n",
    "# 'AdjCode2', 'R4', 'Numeric', 'AdjCode4', 'R1', 'R2', 'AdjCode1', 'R3', 'AdjCode3', 'ClaimStatus', 'AdjCode5'\n",
    "# and the entries are all arrays of length the number of rows of the corresponding df.\n",
    "                    selector = DataFrameSelectorAsCategory(FACILITY_TYPE)\n",
    "                    temp = np.asarray(get_label_encoded_category_data(selector,state_df)).reshape(-1,1)\n",
    "                    claims_data_encoded[payer_cat][state] = np.hstack([claims_feature_encoded[payer_cat][state],temp])\n",
    "    return claims_data_encoded, claims_labels_dict\n",
    "\n",
    "# claims_data_encoded[payer_cat][state] is an array of shape (number of df rows, 17).\n",
    "# The numbers of columns 17 is the number of features we have. len(DF_cat_features)= 15 + 1 numeric feature\n",
    "# 'CPT','Mod1', 'Mod2', 'Mod3', 'Mod4', 'ICD1', 'ICD2', 'ICD3', 'ICD4', 'PayerCategory', 'PayerState', 'Specialty', 'Sex', 'InsuranceType', 'IDentity'\n",
    "# The last column of claims_data_encoded is  FACILITY_TYPE and added at the end.\n",
    "\n",
    "def prepare_train_label_data(claims_data_encoded, claims_labels_dict):\n",
    "    train_set = {}\n",
    "    test_set = {}\n",
    "    y_train = {}\n",
    "    y_test = {}\n",
    "    dict_labels = DF_cat_labels\n",
    "    dict_labels.append(NUMERIC)\n",
    "    for payer_cat in payer_cat_value_count.index:\n",
    "        train_set[payer_cat] = {}\n",
    "        test_set[payer_cat] = {}\n",
    "        y_train[payer_cat] = {}\n",
    "        y_test[payer_cat] = {}\n",
    "        for state in state_value_count.index:\n",
    "            # #############################################################################\n",
    "            # create test features and labels\n",
    "            if state != 0:\n",
    "                train_set[payer_cat][state] = {}\n",
    "                test_set[payer_cat][state] = {}\n",
    "                y_train[payer_cat][state] = {}\n",
    "                y_test[payer_cat][state] = {}\n",
    "                for label in dict_labels: \n",
    "                    print(label)\n",
    "                    try:\n",
    "                        train_set[payer_cat][state][label], test_set[payer_cat][state][label],y_train[payer_cat][state][label], y_test[payer_cat][state][label] = train_test_split(claims_data_encoded[payer_cat][state],claims_labels_dict[payer_cat][state][label], test_size=TEST_FRACTION, random_state=42)\n",
    "                        print(payer_cat, state, label, \"train:\", train_set[payer_cat][state][label].shape, \"test:\", test_set[payer_cat][state][label].shape,\"train_label:\", y_train[payer_cat][state][label].shape, \"test_label:\", y_test[payer_cat][state][label].shape )\n",
    "                    except :\n",
    "                        print(\"There must be no data for payer category, state, and label combo :\", payer_cat, state, label)\n",
    "\n",
    "    return train_set, test_set, y_train, y_test\n",
    "\n",
    "# Returns a dictionary of quadruplets, keyed by payer_cat, state, \n",
    "# AND labels from DF_cat_labels+'NUMERIC'. \n",
    "# Each label gets the same X_train and X_test at given payer_cat and state.\n",
    "\n",
    "def evaluate(model, train_set, y_train, test_set, y_test, label, data_fraction):\n",
    "    \n",
    "    models = {} \n",
    "    precision = {}\n",
    "    recall = {}\n",
    "    y_predict_hat = {} \n",
    "    i = 0\n",
    "    if (data_fraction <= 0 or data_fraction > 1):\n",
    "        data_fraction = 1\n",
    "        \n",
    "    for payer_cat in payer_cat_value_count.index:\n",
    "        models[payer_cat] = {}\n",
    "        precision[payer_cat] = {}\n",
    "        recall[payer_cat] = {}\n",
    "        y_predict_hat[payer_cat] = {}\n",
    "\n",
    "        for state in state_value_count.index:\n",
    "            if state != 0:\n",
    "                try:\n",
    "                    train_data_set, train_label_set, test_data_set, test_label_set = get_shaped_data(train_set[payer_cat][state], y_train[payer_cat][state], test_set[payer_cat][state], y_test[payer_cat][state], label, data_fraction)\n",
    "                    startTime = time.time()\n",
    "                    precision[payer_cat][state] = []\n",
    "                    models[payer_cat][state] = []\n",
    "                    recall[payer_cat][state] = []\n",
    "                    y_predict_hat[payer_cat][state] = []\n",
    "                    model.fit(train_data_set, train_label_set)\n",
    "                    models[payer_cat][state] = model\n",
    "                    y_predict_hat[payer_cat][state] = model.predict(test_data_set)\n",
    "                    # Check on confusion_matrix\n",
    "                    confmat = confusion_matrix(test_label_set,y_predict_hat[payer_cat][state])\n",
    "                    print(str(confmat))\n",
    "                    precision[payer_cat][state] = precision_score(test_label_set,y_predict_hat[payer_cat][state])\n",
    "                    recall[payer_cat][state] = recall_score(test_label_set,y_predict_hat[payer_cat][state])\n",
    "                    endTime = time.time()\n",
    "                    i = i + 1\n",
    "                    print(payer_cat, state, 'precision:', precision[payer_cat][state], 'recall:', recall[payer_cat][state], 'time:', endTime - startTime, 'Dataset Shape:', train_data_set.shape)\n",
    "                    #value, counts = np.unique(y_predict_hat[payer_cat][state], return_counts= True)\n",
    "                    #value1, counts1 = np.unique(test_label_set, return_counts= True)\n",
    "                    #print(\"Test Set Predicted: \", value, counts, \"Actual: \", value1, counts1)\n",
    "                except:    \n",
    "                    print('Skipping: ', state)\n",
    "    return precision, recall, y_predict_hat, models "
   ]
  },
  {
   "cell_type": "markdown",
   "metadata": {},
   "source": []
  },
  {
   "cell_type": "code",
   "execution_count": 111,
   "metadata": {},
   "outputs": [
    {
     "ename": "IndexError",
     "evalue": "boolean index did not match indexed array along dimension 0; dimension is 4601853 but corresponding boolean dimension is 5752317",
     "output_type": "error",
     "traceback": [
      "\u001b[0;31m---------------------------------------------------------------------------\u001b[0m",
      "\u001b[0;31mIndexError\u001b[0m                                Traceback (most recent call last)",
      "\u001b[0;32m<ipython-input-111-fd501e019ddc>\u001b[0m in \u001b[0;36m<module>\u001b[0;34m()\u001b[0m\n\u001b[1;32m      3\u001b[0m \u001b[0mmask\u001b[0m \u001b[0;34m=\u001b[0m \u001b[0;34m(\u001b[0m\u001b[0mdf\u001b[0m\u001b[0;34m[\u001b[0m\u001b[0;34m'PayerState'\u001b[0m\u001b[0;34m]\u001b[0m\u001b[0;34m==\u001b[0m\u001b[0mstate\u001b[0m\u001b[0;34m)\u001b[0m \u001b[0;34m&\u001b[0m \u001b[0;34m(\u001b[0m\u001b[0mdf\u001b[0m\u001b[0;34m[\u001b[0m\u001b[0;34m'PayerCategory'\u001b[0m\u001b[0;34m]\u001b[0m\u001b[0;34m==\u001b[0m \u001b[0mpayercategory\u001b[0m\u001b[0;34m)\u001b[0m\u001b[0;34m\u001b[0m\u001b[0m\n\u001b[1;32m      4\u001b[0m \u001b[0;34m\u001b[0m\u001b[0m\n\u001b[0;32m----> 5\u001b[0;31m \u001b[0my_train\u001b[0m \u001b[0;34m=\u001b[0m \u001b[0my_train\u001b[0m\u001b[0;34m[\u001b[0m\u001b[0mmask\u001b[0m\u001b[0;34m]\u001b[0m\u001b[0;34m\u001b[0m\u001b[0m\n\u001b[0m\u001b[1;32m      6\u001b[0m \u001b[0my_test\u001b[0m \u001b[0;34m=\u001b[0m \u001b[0my_test\u001b[0m\u001b[0;34m[\u001b[0m\u001b[0mmask\u001b[0m\u001b[0;34m]\u001b[0m\u001b[0;34m\u001b[0m\u001b[0m\n",
      "\u001b[0;31mIndexError\u001b[0m: boolean index did not match indexed array along dimension 0; dimension is 4601853 but corresponding boolean dimension is 5752317"
     ]
    }
   ],
   "source": []
  },
  {
   "cell_type": "code",
   "execution_count": null,
   "metadata": {},
   "outputs": [],
   "source": [
    "y_mean = y_train.mean()\n",
    "y_pred = np.ones(len(y_test))*y_mean\n",
    "loss = mean_squared_error(y_test, y_pred)\n",
    "r2 = r2_score(y_test, y_pred)\n",
    "\n",
    "# The mean squared error\n",
    "print(\"Root mean squared error: %.2f\" % loss**(1/2))\n",
    "# Explained variance score: 1 is perfect prediction\n",
    "print('Variance score: %.2f' % r2))"
   ]
  },
  {
   "cell_type": "code",
   "execution_count": 105,
   "metadata": {},
   "outputs": [],
   "source": [
    "state = 'GA'\n",
    "payercategory = 'Commercial'\n",
    "mask = (df['PayerState']==state) & (df['PayerCategory']== payercategory)\n",
    "\n"
   ]
  },
  {
   "cell_type": "markdown",
   "metadata": {},
   "source": [
    "# Decision Tree"
   ]
  },
  {
   "cell_type": "code",
   "execution_count": null,
   "metadata": {},
   "outputs": [],
   "source": [
    "from sklearn.tree.tree import DecisionTreeClassifier\n",
    "from sklearn.metrics import confusion_matrix, precision_score, recall_score\n"
   ]
  }
 ],
 "metadata": {
  "kernelspec": {
   "display_name": "Python 3",
   "language": "python",
   "name": "python3"
  },
  "language_info": {
   "codemirror_mode": {
    "name": "ipython",
    "version": 3
   },
   "file_extension": ".py",
   "mimetype": "text/x-python",
   "name": "python",
   "nbconvert_exporter": "python",
   "pygments_lexer": "ipython3",
   "version": "3.5.4"
  }
 },
 "nbformat": 4,
 "nbformat_minor": 2
}
